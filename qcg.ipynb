{
  "nbformat": 4,
  "nbformat_minor": 0,
  "metadata": {
    "colab": {
      "provenance": []
    },
    "kernelspec": {
      "name": "python3",
      "display_name": "Python 3"
    },
    "language_info": {
      "name": "python"
    }
  },
  "cells": [
    {
      "cell_type": "code",
      "source": [
        "!pip install qiskit"
      ],
      "metadata": {
        "colab": {
          "base_uri": "https://localhost:8080/"
        },
        "id": "WRwSTRc3BiSe",
        "outputId": "16fbe583-8426-458f-db3e-b2d629164270"
      },
      "execution_count": null,
      "outputs": [
        {
          "output_type": "stream",
          "name": "stdout",
          "text": [
            "Looking in indexes: https://pypi.org/simple, https://us-python.pkg.dev/colab-wheels/public/simple/\n",
            "Requirement already satisfied: qiskit in /usr/local/lib/python3.7/dist-packages (0.39.2)\n",
            "Requirement already satisfied: qiskit-aer==0.11.1 in /usr/local/lib/python3.7/dist-packages (from qiskit) (0.11.1)\n",
            "Requirement already satisfied: qiskit-terra==0.22.2 in /usr/local/lib/python3.7/dist-packages (from qiskit) (0.22.2)\n",
            "Requirement already satisfied: qiskit-ibmq-provider==0.19.2 in /usr/local/lib/python3.7/dist-packages (from qiskit) (0.19.2)\n",
            "Requirement already satisfied: numpy>=1.16.3 in /usr/local/lib/python3.7/dist-packages (from qiskit-aer==0.11.1->qiskit) (1.21.6)\n",
            "Requirement already satisfied: scipy>=1.0 in /usr/local/lib/python3.7/dist-packages (from qiskit-aer==0.11.1->qiskit) (1.7.3)\n",
            "Requirement already satisfied: urllib3>=1.21.1 in /usr/local/lib/python3.7/dist-packages (from qiskit-ibmq-provider==0.19.2->qiskit) (1.24.3)\n",
            "Requirement already satisfied: websocket-client>=1.0.1 in /usr/local/lib/python3.7/dist-packages (from qiskit-ibmq-provider==0.19.2->qiskit) (1.4.2)\n",
            "Requirement already satisfied: requests-ntlm>=1.1.0 in /usr/local/lib/python3.7/dist-packages (from qiskit-ibmq-provider==0.19.2->qiskit) (1.1.0)\n",
            "Requirement already satisfied: requests>=2.19 in /usr/local/lib/python3.7/dist-packages (from qiskit-ibmq-provider==0.19.2->qiskit) (2.23.0)\n",
            "Requirement already satisfied: websockets>=10.0 in /usr/local/lib/python3.7/dist-packages (from qiskit-ibmq-provider==0.19.2->qiskit) (10.4)\n",
            "Requirement already satisfied: python-dateutil>=2.8.0 in /usr/local/lib/python3.7/dist-packages (from qiskit-ibmq-provider==0.19.2->qiskit) (2.8.2)\n",
            "Requirement already satisfied: symengine>=0.9 in /usr/local/lib/python3.7/dist-packages (from qiskit-terra==0.22.2->qiskit) (0.9.2)\n",
            "Requirement already satisfied: tweedledum<2.0,>=1.1 in /usr/local/lib/python3.7/dist-packages (from qiskit-terra==0.22.2->qiskit) (1.1.1)\n",
            "Requirement already satisfied: ply>=3.10 in /usr/local/lib/python3.7/dist-packages (from qiskit-terra==0.22.2->qiskit) (3.11)\n",
            "Requirement already satisfied: sympy>=1.3 in /usr/local/lib/python3.7/dist-packages (from qiskit-terra==0.22.2->qiskit) (1.7.1)\n",
            "Requirement already satisfied: stevedore>=3.0.0 in /usr/local/lib/python3.7/dist-packages (from qiskit-terra==0.22.2->qiskit) (3.5.2)\n",
            "Requirement already satisfied: typing-extensions in /usr/local/lib/python3.7/dist-packages (from qiskit-terra==0.22.2->qiskit) (4.1.1)\n",
            "Requirement already satisfied: retworkx>=0.11.0 in /usr/local/lib/python3.7/dist-packages (from qiskit-terra==0.22.2->qiskit) (0.12.0)\n",
            "Requirement already satisfied: importlib-metadata<5.0 in /usr/local/lib/python3.7/dist-packages (from qiskit-terra==0.22.2->qiskit) (4.13.0)\n",
            "Requirement already satisfied: psutil>=5 in /usr/local/lib/python3.7/dist-packages (from qiskit-terra==0.22.2->qiskit) (5.4.8)\n",
            "Requirement already satisfied: dill>=0.3 in /usr/local/lib/python3.7/dist-packages (from qiskit-terra==0.22.2->qiskit) (0.3.6)\n",
            "Requirement already satisfied: shared-memory38 in /usr/local/lib/python3.7/dist-packages (from qiskit-terra==0.22.2->qiskit) (0.1.2)\n",
            "Requirement already satisfied: zipp>=0.5 in /usr/local/lib/python3.7/dist-packages (from importlib-metadata<5.0->qiskit-terra==0.22.2->qiskit) (3.10.0)\n",
            "Requirement already satisfied: six>=1.5 in /usr/local/lib/python3.7/dist-packages (from python-dateutil>=2.8.0->qiskit-ibmq-provider==0.19.2->qiskit) (1.15.0)\n",
            "Requirement already satisfied: idna<3,>=2.5 in /usr/local/lib/python3.7/dist-packages (from requests>=2.19->qiskit-ibmq-provider==0.19.2->qiskit) (2.10)\n",
            "Requirement already satisfied: certifi>=2017.4.17 in /usr/local/lib/python3.7/dist-packages (from requests>=2.19->qiskit-ibmq-provider==0.19.2->qiskit) (2022.9.24)\n",
            "Requirement already satisfied: chardet<4,>=3.0.2 in /usr/local/lib/python3.7/dist-packages (from requests>=2.19->qiskit-ibmq-provider==0.19.2->qiskit) (3.0.4)\n",
            "Requirement already satisfied: ntlm-auth>=1.0.2 in /usr/local/lib/python3.7/dist-packages (from requests-ntlm>=1.1.0->qiskit-ibmq-provider==0.19.2->qiskit) (1.5.0)\n",
            "Requirement already satisfied: cryptography>=1.3 in /usr/local/lib/python3.7/dist-packages (from requests-ntlm>=1.1.0->qiskit-ibmq-provider==0.19.2->qiskit) (38.0.3)\n",
            "Requirement already satisfied: cffi>=1.12 in /usr/local/lib/python3.7/dist-packages (from cryptography>=1.3->requests-ntlm>=1.1.0->qiskit-ibmq-provider==0.19.2->qiskit) (1.15.1)\n",
            "Requirement already satisfied: pycparser in /usr/local/lib/python3.7/dist-packages (from cffi>=1.12->cryptography>=1.3->requests-ntlm>=1.1.0->qiskit-ibmq-provider==0.19.2->qiskit) (2.21)\n",
            "Requirement already satisfied: rustworkx==0.12.0 in /usr/local/lib/python3.7/dist-packages (from retworkx>=0.11.0->qiskit-terra==0.22.2->qiskit) (0.12.0)\n",
            "Requirement already satisfied: pbr!=2.1.0,>=2.0.0 in /usr/local/lib/python3.7/dist-packages (from stevedore>=3.0.0->qiskit-terra==0.22.2->qiskit) (5.11.0)\n",
            "Requirement already satisfied: mpmath>=0.19 in /usr/local/lib/python3.7/dist-packages (from sympy>=1.3->qiskit-terra==0.22.2->qiskit) (1.2.1)\n"
          ]
        }
      ]
    },
    {
      "cell_type": "code",
      "source": [
        "from qiskit import *\n",
        "import numpy as np"
      ],
      "metadata": {
        "id": "ixuGVdJRB0Qs"
      },
      "execution_count": null,
      "outputs": []
    },
    {
      "cell_type": "code",
      "source": [
        "num_qubits=3\n",
        "circ=QuantumCircuit(num_qubits,num_qubits)\n",
        "circ.h(range(num_qubits))\n",
        "circ.measure(range(num_qubits),range(num_qubits))"
      ],
      "metadata": {
        "colab": {
          "base_uri": "https://localhost:8080/"
        },
        "id": "Qv0NaCf6B6Vk",
        "outputId": "a05407ae-faf4-4494-ce85-e10c9b6e9479"
      },
      "execution_count": null,
      "outputs": [
        {
          "output_type": "execute_result",
          "data": {
            "text/plain": [
              "<qiskit.circuit.instructionset.InstructionSet at 0x7f3d73b7ee10>"
            ]
          },
          "metadata": {},
          "execution_count": 4
        }
      ]
    },
    {
      "cell_type": "code",
      "source": [
        "backend_sim=Aer.get_backend('qasm_simulator')\n",
        "job_sim=execute(circ,backend_sim,shot=1024)\n",
        "result_sim=job_sim.result()\n",
        "counts=result_sim.get_counts(circ)\n",
        "print(counts)"
      ],
      "metadata": {
        "colab": {
          "base_uri": "https://localhost:8080/"
        },
        "id": "i1r2WvrWCB4K",
        "outputId": "d26f552c-7780-46c0-d5b6-8e56e9ca24a5"
      },
      "execution_count": null,
      "outputs": [
        {
          "output_type": "stream",
          "name": "stdout",
          "text": [
            "{'010': 138, '011': 120, '111': 124, '000': 135, '101': 113, '001': 122, '110': 135, '100': 137}\n"
          ]
        }
      ]
    },
    {
      "cell_type": "code",
      "source": [
        "from qiskit.visualization import plot_histogram\n",
        "plot_histogram(counts)"
      ],
      "metadata": {
        "colab": {
          "base_uri": "https://localhost:8080/",
          "height": 340
        },
        "id": "Q-uwKZGmCGJs",
        "outputId": "a3c76d73-b520-407f-b88f-0095e8f76026"
      },
      "execution_count": null,
      "outputs": [
        {
          "output_type": "execute_result",
          "data": {
            "text/plain": [
              "<Figure size 504x360 with 1 Axes>"
            ],
            "image/png": "[encoded data removed]"
          },
          "metadata": {},
          "execution_count": 6
        }
      ]
    },
    {
      "cell_type": "code",
      "source": [
        "def quantum_dice_simulated():\n",
        "  def random_num():\n",
        "    backend_sim=Aer.get_backend('qasm_simulator')\n",
        "    job_sim=execute(circ,backend_sim,shots=1)\n",
        "    result_sim=job_sim.result()\n",
        "    counts=result_sim.get_counts(circ)\n",
        "\n",
        "    return int(list(counts.keys())[0] , 2)\n",
        "  \n",
        "  num=random_num()\n",
        "  while num==7 or num==0:\n",
        "    num=random_num()\n",
        "  return num"
      ],
      "metadata": {
        "id": "JjJVoMVpCKZw"
      },
      "execution_count": null,
      "outputs": []
    },
    {
      "cell_type": "code",
      "source": [
        "for _ in range(1,2):\n",
        "  print(quantum_dice_simulated())"
      ],
      "metadata": {
        "colab": {
          "base_uri": "https://localhost:8080/"
        },
        "id": "0lJhQZTCCPaX",
        "outputId": "9304ca3a-c140-4f2f-bd02-4c5197fcb155"
      },
      "execution_count": null,
      "outputs": [
        {
          "output_type": "stream",
          "name": "stdout",
          "text": [
            "5\n"
          ]
        }
      ]
    },
    {
      "cell_type": "code",
      "execution_count": 18,
      "metadata": {
        "id": "ULpjwHxF2b6d"
      },
      "outputs": [],
      "source": [
        "class Player:\n",
        "  name=None\n",
        "  score=None\n",
        "  noOfSixes=None\n",
        "  diceRoleOutcomes=None\n",
        "  def _init_(self,NameOfStudent):\n",
        "    self.name=NameOfStudent\n",
        "    self.diceRoleOutcomes=[]\n",
        "    self.score=0\n",
        "    self.noOfSixes=0\n",
        "    def getScore(self):\n",
        "      self.score=sum(self.diceRoleOutcomes)\n",
        "      return self.score\n",
        "      def getNoOfSixes(self):\n",
        "        self.noOfSixes=self.diceRoleOutcomes.count(6)\n",
        "        return self.noOfSixes\n",
        "      def rollTheDice(self):\n",
        "        diceRollOutcome=quantum_dice_simulated()\n",
        "        self.__diceRoleOutcomes.append(diceRollOutcome)\n",
        "        #print(diceRollOutcome)\n",
        "        def getDiceRollOutcomes(self):\n",
        "          return self.__diceRoleOutcomes\n",
        "        player1=Player(\"Shweta\")\n",
        "        player2=Player(\"Sapna\")\n",
        "        for i in range(20):\n",
        "          player1.rollTheDice()\n",
        "          player2.rollTheDice()\n",
        "          print(player1.name, player1.getDiceRollOutcomes())\n",
        "          print(player2.name, player2.getDiceRollOutcomes())\n",
        "\n",
        "          print(\"player 1 score \",player1.getScore())\n",
        "          print(\"player 2 score \",player1.getScore())\n",
        "\n",
        "          print(\"player 1 no of sixes \",player1.getNoofSixes())\n",
        "          print(\"player 2 no of sixes \",player2.getNoofSixes())\n",
        "\n",
        "\n",
        "          "
      ]
    },
    {
      "cell_type": "code",
      "source": [],
      "metadata": {
        "id": "CwII-B0HWbeS"
      },
      "execution_count": null,
      "outputs": []
    },
    {
      "cell_type": "code",
      "source": [
        "\n",
        "class Game:\n",
        "  __player1=None\n",
        "  __player2=None\n",
        "  winner=None\n",
        "  def _init_(self,Player1,Player2):\n",
        "    self.__player1=Player1\n",
        "    self.__player2=Player2\n",
        "    def getwinner(self):\n",
        "      if self.__player1.getnoOfSixes()>self.__player2.getNoOfSixes():\n",
        "        self.winner=self.__player1\n",
        "      elif self.__player1.getnoOfSixes()==self.__player2.getNoOfSixes():\n",
        "          if self.__player1.getScore()>self.__player2.getScore():\n",
        "            self.winner=self._player1\n",
        "          else:\n",
        "              self.winner=self.__player2\n",
        "      else:\n",
        "        self.winner=self.__player2"
      ],
      "metadata": {
        "id": "5Zj4a34kCYZi"
      },
      "execution_count": null,
      "outputs": []
    },
    {
      "cell_type": "code",
      "source": [],
      "metadata": {
        "id": "7ifH2eHkItVc"
      },
      "execution_count": null,
      "outputs": []
    }
  ]
}