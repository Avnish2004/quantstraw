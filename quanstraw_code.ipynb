{
  "nbformat": 4,
  "nbformat_minor": 0,
  "metadata": {
    "colab": {
      "provenance": [],
      "collapsed_sections": []
    },
    "kernelspec": {
      "name": "python3",
      "display_name": "Python 3"
    },
    "language_info": {
      "name": "python"
    }
  },
  "cells": [
    {
      "cell_type": "code",
      "source": [
        "!pip install qiskit"
      ],
      "metadata": {
        "colab": {
          "base_uri": "https://localhost:8080/"
        },
        "id": "WRwSTRc3BiSe",
        "outputId": "3cea1691-ce7f-4d1a-e6ad-292acbbdc289"
      },
      "execution_count": null,
      "outputs": [
        {
          "output_type": "stream",
          "name": "stdout",
          "text": [
            "Looking in indexes: https://pypi.org/simple, https://us-python.pkg.dev/colab-wheels/public/simple/\n",
            "Collecting qiskit\n",
            "  Downloading qiskit-0.39.2.tar.gz (13 kB)\n",
            "Collecting qiskit-terra==0.22.2\n",
            "  Downloading qiskit_terra-0.22.2-cp37-cp37m-manylinux_2_17_x86_64.manylinux2014_x86_64.whl (4.8 MB)\n",
            "\u001b[K     |████████████████████████████████| 4.8 MB 14.7 MB/s \n",
            "\u001b[?25hCollecting qiskit-aer==0.11.1\n",
            "  Downloading qiskit_aer-0.11.1-cp37-cp37m-manylinux_2_17_x86_64.manylinux2014_x86_64.whl (19.2 MB)\n",
            "\u001b[K     |████████████████████████████████| 19.2 MB 1.2 MB/s \n",
            "\u001b[?25hCollecting qiskit-ibmq-provider==0.19.2\n",
            "  Downloading qiskit_ibmq_provider-0.19.2-py3-none-any.whl (240 kB)\n",
            "\u001b[K     |████████████████████████████████| 240 kB 39.8 MB/s \n",
            "\u001b[?25hRequirement already satisfied: scipy>=1.0 in /usr/local/lib/python3.7/dist-packages (from qiskit-aer==0.11.1->qiskit) (1.7.3)\n",
            "Requirement already satisfied: numpy>=1.16.3 in /usr/local/lib/python3.7/dist-packages (from qiskit-aer==0.11.1->qiskit) (1.21.6)\n",
            "Collecting websocket-client>=1.0.1\n",
            "  Downloading websocket_client-1.4.2-py3-none-any.whl (55 kB)\n",
            "\u001b[K     |████████████████████████████████| 55 kB 3.4 MB/s \n",
            "\u001b[?25hCollecting requests-ntlm>=1.1.0\n",
            "  Downloading requests_ntlm-1.1.0-py2.py3-none-any.whl (5.7 kB)\n",
            "Requirement already satisfied: urllib3>=1.21.1 in /usr/local/lib/python3.7/dist-packages (from qiskit-ibmq-provider==0.19.2->qiskit) (1.24.3)\n",
            "Collecting websockets>=10.0\n",
            "  Downloading websockets-10.4-cp37-cp37m-manylinux_2_5_x86_64.manylinux1_x86_64.manylinux_2_17_x86_64.manylinux2014_x86_64.whl (106 kB)\n",
            "\u001b[K     |████████████████████████████████| 106 kB 58.6 MB/s \n",
            "\u001b[?25hRequirement already satisfied: requests>=2.19 in /usr/local/lib/python3.7/dist-packages (from qiskit-ibmq-provider==0.19.2->qiskit) (2.23.0)\n",
            "Requirement already satisfied: python-dateutil>=2.8.0 in /usr/local/lib/python3.7/dist-packages (from qiskit-ibmq-provider==0.19.2->qiskit) (2.8.2)\n",
            "Requirement already satisfied: dill>=0.3 in /usr/local/lib/python3.7/dist-packages (from qiskit-terra==0.22.2->qiskit) (0.3.6)\n",
            "Collecting ply>=3.10\n",
            "  Downloading ply-3.11-py2.py3-none-any.whl (49 kB)\n",
            "\u001b[K     |████████████████████████████████| 49 kB 6.3 MB/s \n",
            "\u001b[?25hRequirement already satisfied: importlib-metadata<5.0 in /usr/local/lib/python3.7/dist-packages (from qiskit-terra==0.22.2->qiskit) (4.13.0)\n",
            "Collecting retworkx>=0.11.0\n",
            "  Downloading retworkx-0.12.0-py3-none-any.whl (10 kB)\n",
            "Collecting symengine>=0.9\n",
            "  Downloading symengine-0.9.2-cp37-cp37m-manylinux2010_x86_64.whl (37.5 MB)\n",
            "\u001b[K     |████████████████████████████████| 37.5 MB 1.2 MB/s \n",
            "\u001b[?25hRequirement already satisfied: typing-extensions in /usr/local/lib/python3.7/dist-packages (from qiskit-terra==0.22.2->qiskit) (4.1.1)\n",
            "Collecting shared-memory38\n",
            "  Downloading shared_memory38-0.1.2-cp37-cp37m-manylinux_2_5_x86_64.manylinux1_x86_64.whl (25 kB)\n",
            "Collecting stevedore>=3.0.0\n",
            "  Downloading stevedore-3.5.2-py3-none-any.whl (50 kB)\n",
            "\u001b[K     |████████████████████████████████| 50 kB 278 kB/s \n",
            "\u001b[?25hRequirement already satisfied: sympy>=1.3 in /usr/local/lib/python3.7/dist-packages (from qiskit-terra==0.22.2->qiskit) (1.7.1)\n",
            "Collecting tweedledum<2.0,>=1.1\n",
            "  Downloading tweedledum-1.1.1-cp37-cp37m-manylinux_2_12_x86_64.manylinux2010_x86_64.whl (943 kB)\n",
            "\u001b[K     |████████████████████████████████| 943 kB 47.7 MB/s \n",
            "\u001b[?25hRequirement already satisfied: psutil>=5 in /usr/local/lib/python3.7/dist-packages (from qiskit-terra==0.22.2->qiskit) (5.4.8)\n",
            "Requirement already satisfied: zipp>=0.5 in /usr/local/lib/python3.7/dist-packages (from importlib-metadata<5.0->qiskit-terra==0.22.2->qiskit) (3.10.0)\n",
            "Requirement already satisfied: six>=1.5 in /usr/local/lib/python3.7/dist-packages (from python-dateutil>=2.8.0->qiskit-ibmq-provider==0.19.2->qiskit) (1.15.0)\n",
            "Requirement already satisfied: idna<3,>=2.5 in /usr/local/lib/python3.7/dist-packages (from requests>=2.19->qiskit-ibmq-provider==0.19.2->qiskit) (2.10)\n",
            "Requirement already satisfied: chardet<4,>=3.0.2 in /usr/local/lib/python3.7/dist-packages (from requests>=2.19->qiskit-ibmq-provider==0.19.2->qiskit) (3.0.4)\n",
            "Requirement already satisfied: certifi>=2017.4.17 in /usr/local/lib/python3.7/dist-packages (from requests>=2.19->qiskit-ibmq-provider==0.19.2->qiskit) (2022.9.24)\n",
            "Collecting cryptography>=1.3\n",
            "  Downloading cryptography-38.0.3-cp36-abi3-manylinux_2_24_x86_64.whl (4.1 MB)\n",
            "\u001b[K     |████████████████████████████████| 4.1 MB 47.1 MB/s \n",
            "\u001b[?25hCollecting ntlm-auth>=1.0.2\n",
            "  Downloading ntlm_auth-1.5.0-py2.py3-none-any.whl (29 kB)\n",
            "Requirement already satisfied: cffi>=1.12 in /usr/local/lib/python3.7/dist-packages (from cryptography>=1.3->requests-ntlm>=1.1.0->qiskit-ibmq-provider==0.19.2->qiskit) (1.15.1)\n",
            "Requirement already satisfied: pycparser in /usr/local/lib/python3.7/dist-packages (from cffi>=1.12->cryptography>=1.3->requests-ntlm>=1.1.0->qiskit-ibmq-provider==0.19.2->qiskit) (2.21)\n",
            "Collecting rustworkx==0.12.0\n",
            "  Downloading rustworkx-0.12.0-cp37-cp37m-manylinux_2_17_x86_64.manylinux2014_x86_64.whl (1.9 MB)\n",
            "\u001b[K     |████████████████████████████████| 1.9 MB 43.0 MB/s \n",
            "\u001b[?25hCollecting pbr!=2.1.0,>=2.0.0\n",
            "  Downloading pbr-5.11.0-py2.py3-none-any.whl (112 kB)\n",
            "\u001b[K     |████████████████████████████████| 112 kB 58.2 MB/s \n",
            "\u001b[?25hRequirement already satisfied: mpmath>=0.19 in /usr/local/lib/python3.7/dist-packages (from sympy>=1.3->qiskit-terra==0.22.2->qiskit) (1.2.1)\n",
            "Building wheels for collected packages: qiskit\n",
            "  Building wheel for qiskit (setup.py) ... \u001b[?25l\u001b[?25hdone\n",
            "  Created wheel for qiskit: filename=qiskit-0.39.2-py3-none-any.whl size=12226 sha256=690a90a8feaa8955f4039d512f5e84b5ef0b7ff8cc2bf6604981344e5048ea5a\n",
            "  Stored in directory: /root/.cache/pip/wheels/30/dc/90/0ee55ccffd13c16db1abd4c43028f7c9cedb5576b190402190\n",
            "Successfully built qiskit\n",
            "Installing collected packages: rustworkx, pbr, tweedledum, symengine, stevedore, shared-memory38, retworkx, ply, ntlm-auth, cryptography, websockets, websocket-client, requests-ntlm, qiskit-terra, qiskit-ibmq-provider, qiskit-aer, qiskit\n",
            "Successfully installed cryptography-38.0.3 ntlm-auth-1.5.0 pbr-5.11.0 ply-3.11 qiskit-0.39.2 qiskit-aer-0.11.1 qiskit-ibmq-provider-0.19.2 qiskit-terra-0.22.2 requests-ntlm-1.1.0 retworkx-0.12.0 rustworkx-0.12.0 shared-memory38-0.1.2 stevedore-3.5.2 symengine-0.9.2 tweedledum-1.1.1 websocket-client-1.4.2 websockets-10.4\n"
          ]
        }
      ]
    },
    {
      "cell_type": "code",
      "source": [
        "from qiskit import *\n",
        "import numpy as np"
      ],
      "metadata": {
        "id": "ixuGVdJRB0Qs"
      },
      "execution_count": null,
      "outputs": []
    },
    {
      "cell_type": "code",
      "source": [
        "num_qubits=3\n",
        "circ=QuantumCircuit(num_qubits,num_qubits)\n",
        "circ.h(range(num_qubits))\n",
        "circ.measure(range(num_qubits),range(num_qubits))"
      ],
      "metadata": {
        "colab": {
          "base_uri": "https://localhost:8080/"
        },
        "id": "Qv0NaCf6B6Vk",
        "outputId": "3b34b456-6f9f-4156-e19e-de5c1809ce44"
      },
      "execution_count": null,
      "outputs": [
        {
          "output_type": "execute_result",
          "data": {
            "text/plain": [
              "<qiskit.circuit.instructionset.InstructionSet at 0x7fb9011bbbd0>"
            ]
          },
          "metadata": {},
          "execution_count": 4
        }
      ]
    },
    {
      "cell_type": "code",
      "source": [
        "backend_sim=Aer.get_backend('qasm_simulator')\n",
        "job_sim=execute(circ,backend_sim,shot=1024)\n",
        "result_sim=job_sim.result()\n",
        "counts=result_sim.get_counts(circ)\n",
        "print(counts)"
      ],
      "metadata": {
        "colab": {
          "base_uri": "https://localhost:8080/"
        },
        "id": "i1r2WvrWCB4K",
        "outputId": "1ee007bc-828a-4035-b14e-6694d21d33c3"
      },
      "execution_count": null,
      "outputs": [
        {
          "output_type": "stream",
          "name": "stdout",
          "text": [
            "{'101': 117, '010': 140, '110': 132, '100': 134, '111': 124, '000': 128, '011': 121, '001': 128}\n"
          ]
        }
      ]
    },
    {
      "cell_type": "code",
      "source": [
        "from qiskit.visualization import plot_histogram\n",
        "plot_histogram(counts)"
      ],
      "metadata": {
        "colab": {
          "base_uri": "https://localhost:8080/",
          "height": 340
        },
        "id": "Q-uwKZGmCGJs",
        "outputId": "65cd9255-f475-43b1-d7c5-fd26d9341be1"
      },
      "execution_count": null,
      "outputs": [
        {
          "output_type": "execute_result",
          "data": {
            "text/plain": [
              "<Figure size 504x360 with 1 Axes>"
            ],
            "image/png": "[encoded data removed]"
          },
          "metadata": {},
          "execution_count": 6
        }
      ]
    },
    {
      "cell_type": "code",
      "source": [
        "def quantum_dice_simulated():\n",
        "  def random_num():\n",
        "    backend_sim=Aer.get_backend('qasm_simulator')\n",
        "    job_sim=execute(circ,backend_sim,shots=1)\n",
        "    result_sim=job_sim.result()\n",
        "    counts=result_sim.get_counts(circ)\n",
        "\n",
        "    return int(list(counts.keys())[0] , 2)\n",
        "  \n",
        "  num=random_num()\n",
        "  while num==7 or num==0:\n",
        "    num=random_num()\n",
        "  return num"
      ],
      "metadata": {
        "id": "JjJVoMVpCKZw"
      },
      "execution_count": null,
      "outputs": []
    },
    {
      "cell_type": "code",
      "source": [
        "for _ in range(1,2):\n",
        "  print(quantum_dice_simulated())"
      ],
      "metadata": {
        "colab": {
          "base_uri": "https://localhost:8080/"
        },
        "id": "0lJhQZTCCPaX",
        "outputId": "a7bb955c-e778-4a7e-ddfe-561976dea52e"
      },
      "execution_count": null,
      "outputs": [
        {
          "output_type": "stream",
          "name": "stdout",
          "text": [
            "3\n"
          ]
        }
      ]
    },
    {
      "cell_type": "code",
      "execution_count": null,
      "metadata": {
        "id": "ULpjwHxF2b6d",
        "colab": {
          "base_uri": "https://localhost:8080/"
        },
        "outputId": "0fe99dfb-ad87-4ba0-c64e-6da962ec26dd"
      },
      "outputs": [
        {
          "output_type": "stream",
          "name": "stdout",
          "text": [
            "Shweta [4]\n",
            "Sapna [4]\n",
            "Srishti [5]\n",
            "Prachi [4]\n",
            "player 1 score  4\n",
            "player 2 score  4\n",
            "player 3 score  5\n",
            "player 4 score  4\n",
            "player 1 no of sixes  0\n",
            "player 2 no of sixes  0\n",
            "player 3 no of sixes  0\n",
            "player 4 no of sixes  0\n",
            "Shweta [4, 5]\n",
            "Sapna [4, 6]\n",
            "Srishti [5, 3]\n",
            "Prachi [4, 1]\n",
            "player 1 score  9\n",
            "player 2 score  9\n",
            "player 3 score  8\n",
            "player 4 score  5\n",
            "player 1 no of sixes  0\n",
            "player 2 no of sixes  1\n",
            "player 3 no of sixes  0\n",
            "player 4 no of sixes  0\n",
            "Shweta [4, 5, 1]\n",
            "Sapna [4, 6, 3]\n",
            "Srishti [5, 3, 2]\n",
            "Prachi [4, 1, 2]\n",
            "player 1 score  10\n",
            "player 2 score  10\n",
            "player 3 score  10\n",
            "player 4 score  7\n",
            "player 1 no of sixes  0\n",
            "player 2 no of sixes  1\n",
            "player 3 no of sixes  0\n",
            "player 4 no of sixes  0\n",
            "Shweta [4, 5, 1, 6]\n",
            "Sapna [4, 6, 3, 1]\n",
            "Srishti [5, 3, 2, 2]\n",
            "Prachi [4, 1, 2, 3]\n",
            "player 1 score  16\n",
            "player 2 score  16\n",
            "player 3 score  12\n",
            "player 4 score  10\n",
            "player 1 no of sixes  1\n",
            "player 2 no of sixes  1\n",
            "player 3 no of sixes  0\n",
            "player 4 no of sixes  0\n",
            "Shweta [4, 5, 1, 6, 5]\n",
            "Sapna [4, 6, 3, 1, 5]\n",
            "Srishti [5, 3, 2, 2, 2]\n",
            "Prachi [4, 1, 2, 3, 5]\n",
            "player 1 score  21\n",
            "player 2 score  21\n",
            "player 3 score  14\n",
            "player 4 score  15\n",
            "player 1 no of sixes  1\n",
            "player 2 no of sixes  1\n",
            "player 3 no of sixes  0\n",
            "player 4 no of sixes  0\n",
            "Shweta [4, 5, 1, 6, 5, 4]\n",
            "Sapna [4, 6, 3, 1, 5, 4]\n",
            "Srishti [5, 3, 2, 2, 2, 1]\n",
            "Prachi [4, 1, 2, 3, 5, 5]\n",
            "player 1 score  25\n",
            "player 2 score  25\n",
            "player 3 score  15\n",
            "player 4 score  20\n",
            "player 1 no of sixes  1\n",
            "player 2 no of sixes  1\n",
            "player 3 no of sixes  0\n",
            "player 4 no of sixes  0\n",
            "Shweta [4, 5, 1, 6, 5, 4, 5]\n",
            "Sapna [4, 6, 3, 1, 5, 4, 5]\n",
            "Srishti [5, 3, 2, 2, 2, 1, 6]\n",
            "Prachi [4, 1, 2, 3, 5, 5, 2]\n",
            "player 1 score  30\n",
            "player 2 score  30\n",
            "player 3 score  21\n",
            "player 4 score  22\n",
            "player 1 no of sixes  1\n",
            "player 2 no of sixes  1\n",
            "player 3 no of sixes  1\n",
            "player 4 no of sixes  0\n",
            "Shweta [4, 5, 1, 6, 5, 4, 5, 1]\n",
            "Sapna [4, 6, 3, 1, 5, 4, 5, 5]\n",
            "Srishti [5, 3, 2, 2, 2, 1, 6, 6]\n",
            "Prachi [4, 1, 2, 3, 5, 5, 2, 6]\n",
            "player 1 score  31\n",
            "player 2 score  31\n",
            "player 3 score  27\n",
            "player 4 score  28\n",
            "player 1 no of sixes  1\n",
            "player 2 no of sixes  1\n",
            "player 3 no of sixes  2\n",
            "player 4 no of sixes  1\n",
            "Shweta [4, 5, 1, 6, 5, 4, 5, 1, 5]\n",
            "Sapna [4, 6, 3, 1, 5, 4, 5, 5, 4]\n",
            "Srishti [5, 3, 2, 2, 2, 1, 6, 6, 6]\n",
            "Prachi [4, 1, 2, 3, 5, 5, 2, 6, 4]\n",
            "player 1 score  36\n",
            "player 2 score  36\n",
            "player 3 score  33\n",
            "player 4 score  32\n",
            "player 1 no of sixes  1\n",
            "player 2 no of sixes  1\n",
            "player 3 no of sixes  3\n",
            "player 4 no of sixes  1\n",
            "Shweta [4, 5, 1, 6, 5, 4, 5, 1, 5, 1]\n",
            "Sapna [4, 6, 3, 1, 5, 4, 5, 5, 4, 1]\n",
            "Srishti [5, 3, 2, 2, 2, 1, 6, 6, 6, 3]\n",
            "Prachi [4, 1, 2, 3, 5, 5, 2, 6, 4, 3]\n",
            "player 1 score  37\n",
            "player 2 score  37\n",
            "player 3 score  36\n",
            "player 4 score  35\n",
            "player 1 no of sixes  1\n",
            "player 2 no of sixes  1\n",
            "player 3 no of sixes  3\n",
            "player 4 no of sixes  1\n",
            "Shweta [4, 5, 1, 6, 5, 4, 5, 1, 5, 1, 6]\n",
            "Sapna [4, 6, 3, 1, 5, 4, 5, 5, 4, 1, 6]\n",
            "Srishti [5, 3, 2, 2, 2, 1, 6, 6, 6, 3, 2]\n",
            "Prachi [4, 1, 2, 3, 5, 5, 2, 6, 4, 3, 6]\n",
            "player 1 score  43\n",
            "player 2 score  43\n",
            "player 3 score  38\n",
            "player 4 score  41\n",
            "player 1 no of sixes  2\n",
            "player 2 no of sixes  2\n",
            "player 3 no of sixes  3\n",
            "player 4 no of sixes  2\n",
            "Shweta [4, 5, 1, 6, 5, 4, 5, 1, 5, 1, 6, 6]\n",
            "Sapna [4, 6, 3, 1, 5, 4, 5, 5, 4, 1, 6, 2]\n",
            "Srishti [5, 3, 2, 2, 2, 1, 6, 6, 6, 3, 2, 4]\n",
            "Prachi [4, 1, 2, 3, 5, 5, 2, 6, 4, 3, 6, 1]\n",
            "player 1 score  49\n",
            "player 2 score  49\n",
            "player 3 score  42\n",
            "player 4 score  42\n",
            "player 1 no of sixes  3\n",
            "player 2 no of sixes  2\n",
            "player 3 no of sixes  3\n",
            "player 4 no of sixes  2\n",
            "Shweta [4, 5, 1, 6, 5, 4, 5, 1, 5, 1, 6, 6, 3]\n",
            "Sapna [4, 6, 3, 1, 5, 4, 5, 5, 4, 1, 6, 2, 5]\n",
            "Srishti [5, 3, 2, 2, 2, 1, 6, 6, 6, 3, 2, 4, 2]\n",
            "Prachi [4, 1, 2, 3, 5, 5, 2, 6, 4, 3, 6, 1, 5]\n",
            "player 1 score  52\n",
            "player 2 score  52\n",
            "player 3 score  44\n",
            "player 4 score  47\n",
            "player 1 no of sixes  3\n",
            "player 2 no of sixes  2\n",
            "player 3 no of sixes  3\n",
            "player 4 no of sixes  2\n",
            "Shweta [4, 5, 1, 6, 5, 4, 5, 1, 5, 1, 6, 6, 3, 5]\n",
            "Sapna [4, 6, 3, 1, 5, 4, 5, 5, 4, 1, 6, 2, 5, 2]\n",
            "Srishti [5, 3, 2, 2, 2, 1, 6, 6, 6, 3, 2, 4, 2, 3]\n",
            "Prachi [4, 1, 2, 3, 5, 5, 2, 6, 4, 3, 6, 1, 5, 2]\n",
            "player 1 score  57\n",
            "player 2 score  57\n",
            "player 3 score  47\n",
            "player 4 score  49\n",
            "player 1 no of sixes  3\n",
            "player 2 no of sixes  2\n",
            "player 3 no of sixes  3\n",
            "player 4 no of sixes  2\n",
            "Shweta [4, 5, 1, 6, 5, 4, 5, 1, 5, 1, 6, 6, 3, 5, 3]\n",
            "Sapna [4, 6, 3, 1, 5, 4, 5, 5, 4, 1, 6, 2, 5, 2, 6]\n",
            "Srishti [5, 3, 2, 2, 2, 1, 6, 6, 6, 3, 2, 4, 2, 3, 4]\n",
            "Prachi [4, 1, 2, 3, 5, 5, 2, 6, 4, 3, 6, 1, 5, 2, 3]\n",
            "player 1 score  60\n",
            "player 2 score  60\n",
            "player 3 score  51\n",
            "player 4 score  52\n",
            "player 1 no of sixes  3\n",
            "player 2 no of sixes  3\n",
            "player 3 no of sixes  3\n",
            "player 4 no of sixes  2\n",
            "Shweta [4, 5, 1, 6, 5, 4, 5, 1, 5, 1, 6, 6, 3, 5, 3, 1]\n",
            "Sapna [4, 6, 3, 1, 5, 4, 5, 5, 4, 1, 6, 2, 5, 2, 6, 3]\n",
            "Srishti [5, 3, 2, 2, 2, 1, 6, 6, 6, 3, 2, 4, 2, 3, 4, 6]\n",
            "Prachi [4, 1, 2, 3, 5, 5, 2, 6, 4, 3, 6, 1, 5, 2, 3, 3]\n",
            "player 1 score  61\n",
            "player 2 score  61\n",
            "player 3 score  57\n",
            "player 4 score  55\n",
            "player 1 no of sixes  3\n",
            "player 2 no of sixes  3\n",
            "player 3 no of sixes  4\n",
            "player 4 no of sixes  2\n",
            "Shweta [4, 5, 1, 6, 5, 4, 5, 1, 5, 1, 6, 6, 3, 5, 3, 1, 5]\n",
            "Sapna [4, 6, 3, 1, 5, 4, 5, 5, 4, 1, 6, 2, 5, 2, 6, 3, 1]\n",
            "Srishti [5, 3, 2, 2, 2, 1, 6, 6, 6, 3, 2, 4, 2, 3, 4, 6, 5]\n",
            "Prachi [4, 1, 2, 3, 5, 5, 2, 6, 4, 3, 6, 1, 5, 2, 3, 3, 2]\n",
            "player 1 score  66\n",
            "player 2 score  66\n",
            "player 3 score  62\n",
            "player 4 score  57\n",
            "player 1 no of sixes  3\n",
            "player 2 no of sixes  3\n",
            "player 3 no of sixes  4\n",
            "player 4 no of sixes  2\n",
            "Shweta [4, 5, 1, 6, 5, 4, 5, 1, 5, 1, 6, 6, 3, 5, 3, 1, 5, 1]\n",
            "Sapna [4, 6, 3, 1, 5, 4, 5, 5, 4, 1, 6, 2, 5, 2, 6, 3, 1, 5]\n",
            "Srishti [5, 3, 2, 2, 2, 1, 6, 6, 6, 3, 2, 4, 2, 3, 4, 6, 5, 3]\n",
            "Prachi [4, 1, 2, 3, 5, 5, 2, 6, 4, 3, 6, 1, 5, 2, 3, 3, 2, 6]\n",
            "player 1 score  67\n",
            "player 2 score  67\n",
            "player 3 score  65\n",
            "player 4 score  63\n",
            "player 1 no of sixes  3\n",
            "player 2 no of sixes  3\n",
            "player 3 no of sixes  4\n",
            "player 4 no of sixes  3\n",
            "Shweta [4, 5, 1, 6, 5, 4, 5, 1, 5, 1, 6, 6, 3, 5, 3, 1, 5, 1, 1]\n",
            "Sapna [4, 6, 3, 1, 5, 4, 5, 5, 4, 1, 6, 2, 5, 2, 6, 3, 1, 5, 5]\n",
            "Srishti [5, 3, 2, 2, 2, 1, 6, 6, 6, 3, 2, 4, 2, 3, 4, 6, 5, 3, 4]\n",
            "Prachi [4, 1, 2, 3, 5, 5, 2, 6, 4, 3, 6, 1, 5, 2, 3, 3, 2, 6, 5]\n",
            "player 1 score  68\n",
            "player 2 score  68\n",
            "player 3 score  69\n",
            "player 4 score  68\n",
            "player 1 no of sixes  3\n",
            "player 2 no of sixes  3\n",
            "player 3 no of sixes  4\n",
            "player 4 no of sixes  3\n",
            "Shweta [4, 5, 1, 6, 5, 4, 5, 1, 5, 1, 6, 6, 3, 5, 3, 1, 5, 1, 1, 3]\n",
            "Sapna [4, 6, 3, 1, 5, 4, 5, 5, 4, 1, 6, 2, 5, 2, 6, 3, 1, 5, 5, 2]\n",
            "Srishti [5, 3, 2, 2, 2, 1, 6, 6, 6, 3, 2, 4, 2, 3, 4, 6, 5, 3, 4, 1]\n",
            "Prachi [4, 1, 2, 3, 5, 5, 2, 6, 4, 3, 6, 1, 5, 2, 3, 3, 2, 6, 5, 6]\n",
            "player 1 score  71\n",
            "player 2 score  71\n",
            "player 3 score  70\n",
            "player 4 score  74\n",
            "player 1 no of sixes  3\n",
            "player 2 no of sixes  3\n",
            "player 3 no of sixes  4\n",
            "player 4 no of sixes  4\n"
          ]
        }
      ],
      "source": [
        "class Player:\n",
        "  name=None\n",
        "  score=None\n",
        "  noOfSixes=None\n",
        "  diceRoleOutcomes=None\n",
        "  def __init__(self,NameOfStudent):\n",
        "    self.name=NameOfStudent\n",
        "    self.diceRoleOutcomes=[]\n",
        "    self.score=0\n",
        "    self.noOfSixes=0\n",
        "  def getScore(self):\n",
        "    self.score=sum(self.diceRoleOutcomes)\n",
        "    return self.score\n",
        "  def getNoOfSixes(self):\n",
        "    self.noOfSixes=self.diceRoleOutcomes.count(6)\n",
        "    return self.noOfSixes\n",
        "  def rollTheDice(self):\n",
        "    diceRollOutcome=quantum_dice_simulated()\n",
        "    self.diceRoleOutcomes.append(diceRollOutcome)\n",
        "    #print(diceRollOutcome)\n",
        "  def getDiceRollOutcomes(self):\n",
        "    return self.diceRoleOutcomes\n",
        "player1= Player(\"Shweta\")\n",
        "player2=Player(\"Sapna\")\n",
        "player3=Player(\"Srishti\")\n",
        "player4=Player(\"Prachi\")\n",
        "for i in range(20):\n",
        "  player1.rollTheDice()\n",
        "  player2.rollTheDice()\n",
        "  player3.rollTheDice()\n",
        "  player4.rollTheDice()\n",
        "  print(player1.name, player1.getDiceRollOutcomes())\n",
        "  print(player2.name, player2.getDiceRollOutcomes())\n",
        "  print(player3.name, player3.getDiceRollOutcomes())\n",
        "  print(player4.name, player4.getDiceRollOutcomes())\n",
        "\n",
        "  print(\"player 1 score \",player1.getScore())\n",
        "  print(\"player 2 score \",player1.getScore())\n",
        "  print(\"player 3 score \",player3.getScore())\n",
        "  print(\"player 4 score \",player4.getScore())\n",
        "\n",
        "  print(\"player 1 no of sixes \",player1.getNoOfSixes())\n",
        "  print(\"player 2 no of sixes \",player2.getNoOfSixes())\n",
        "  print(\"player 3 no of sixes \",player3.getNoOfSixes())\n",
        "  print(\"player 4 no of sixes \",player4.getNoOfSixes())"
      ]
    },
    {
      "cell_type": "code",
      "source": [
        "\n",
        "class Game:\n",
        "  __player1=None\n",
        "  __player2=None\n",
        "  __player3=None\n",
        "  __player4=None\n",
        "  players = []\n",
        "  sixes = []\n",
        "  scores = []\n",
        "  winner=None\n",
        "  def __init__(self,Player1,Player2,Player3,Player4):\n",
        "    self.__player1=Player1\n",
        "    self.__player2=Player2\n",
        "    self.__player3=Player3\n",
        "    self.__player4=Player4\n",
        "    self.players = [self.__player1,self.__player2,self.__player3,self.__player4]\n",
        "  def getMaxSix(self):\n",
        "    for i in range(len(self.players)):\n",
        "      self.sixes.append(self.players[i].getNoOfSixes())\n",
        "    sixIndex = self.sixes.index(max(self.sixes))\n",
        "    self.winner = self.players[sixIndex]\n",
        "  def getwinner(self):\n",
        "    if self.__player1.getNoOfSixes()>self.__player2.getNoOfSixes():\n",
        "      self.winner=self.__player1\n",
        "    elif self.__player1.getNoOfSixes()==self.__player2.getNoOfSixes():\n",
        "        if self.__player1.getScore()>self.__player2.getScore():\n",
        "          self.winner=self._player1\n",
        "        else:\n",
        "            self.winner=self.__player2\n",
        "    else:\n",
        "      self.winner=self.__player2\n",
        "\n",
        "Game1 = Game(player1,player2,player3,player4)\n",
        "Game1.getMaxSix()\n",
        "print(\"The Winner of the game is: \",Game1.winner.name)"
      ],
      "metadata": {
        "id": "5Zj4a34kCYZi",
        "colab": {
          "base_uri": "https://localhost:8080/"
        },
        "outputId": "3295017f-a33a-4fc6-a60e-2dc66fa1f1ca"
      },
      "execution_count": null,
      "outputs": [
        {
          "output_type": "stream",
          "name": "stdout",
          "text": [
            "The Winner of the game is:  Srishti\n"
          ]
        }
      ]
    },
    {
      "cell_type": "code",
      "source": [],
      "metadata": {
        "id": "7ifH2eHkItVc"
      },
      "execution_count": null,
      "outputs": []
    }
  ]
}